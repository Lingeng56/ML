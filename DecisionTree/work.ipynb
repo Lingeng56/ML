{
 "cells": [
  {
   "cell_type": "code",
   "execution_count": 1,
   "metadata": {
    "collapsed": true
   },
   "outputs": [],
   "source": [
    "from sklearn import datasets\n",
    "iris = datasets.load_iris()\n",
    "\n"
   ]
  },
  {
   "cell_type": "code",
   "execution_count": 2,
   "outputs": [],
   "source": [
    "def uniqueCounts(rows):\n",
    "    results = {}\n",
    "    for row in rows:\n",
    "        r = row[len(row)-1]\n",
    "        if r not in results:results[r] = 0\n",
    "        results[r] += 1\n",
    "    return results"
   ],
   "metadata": {
    "collapsed": false,
    "pycharm": {
     "name": "#%%\n"
    }
   }
  },
  {
   "cell_type": "code",
   "execution_count": 3,
   "outputs": [],
   "source": [
    "def entropy(rows):\n",
    "    from math import log\n",
    "    log2 = lambda x:log(x)/log(2)\n",
    "    results = uniqueCounts(rows)\n",
    "    ent = 0.0\n",
    "    for r in results.keys():\n",
    "        p = float(results[r])/len(rows)\n",
    "        ent = ent - p*log2(p)\n",
    "    return ent"
   ],
   "metadata": {
    "collapsed": false,
    "pycharm": {
     "name": "#%%\n"
    }
   }
  },
  {
   "cell_type": "code",
   "execution_count": 5,
   "outputs": [],
   "source": [
    "class decisionNode:\n",
    "    def __init__(self, col = -1,value = None, results = None, tb = None, fb = None):\n",
    "        self.col = col\n",
    "        self.value = value\n",
    "        self.results = results\n",
    "        self.tb = tb\n",
    "        self.fb = fb\n"
   ],
   "metadata": {
    "collapsed": false,
    "pycharm": {
     "name": "#%%\n"
    }
   }
  },
  {
   "cell_type": "code",
   "execution_count": 15,
   "outputs": [],
   "source": [
    "def gini_impurity(rows):\n",
    "    total = len(rows)\n",
    "    counts = uniqueCounts(rows)\n",
    "    imp = 0\n",
    "    for k1 in counts.keys():\n",
    "        p1 = float(counts[k1])/total\n",
    "        imp += p1*(1 - p1)"
   ],
   "metadata": {
    "collapsed": false,
    "pycharm": {
     "name": "#%%\n"
    }
   }
  },
  {
   "cell_type": "code",
   "execution_count": 8,
   "outputs": [],
   "source": [
    "def divide_set(rows, column, value):\n",
    "    split_function =  None\n",
    "    if isinstance(value, int) or isinstance(value, float):\n",
    "        split_function = lambda row:row[column] >= value\n",
    "    else:\n",
    "        split_function = lambda row:row[column] == value\n",
    "\n",
    "    set1 = [row for row in rows if split_function(row)]\n",
    "    set2 = [row for row in rows if not split_function(row)]\n",
    "    return set1, set2"
   ],
   "metadata": {
    "collapsed": false,
    "pycharm": {
     "name": "#%%\n"
    }
   }
  },
  {
   "cell_type": "code",
   "execution_count": 10,
   "outputs": [],
   "source": [
    "def build_tree(rows, scoreFunction = entropy):\n",
    "    if len(rows) == 0: return decisionNode()\n",
    "    current_score = scoreFunction(rows)\n",
    "\n",
    "    best_gain = 0.0\n",
    "    best_criteria = None\n",
    "    best_sets = None\n",
    "\n",
    "    column_count = len(rows[0]) - 1\n",
    "    for col in range(0, column_count):\n",
    "        column_value = {}\n",
    "        for row in rows:\n",
    "            column_value[row[col]] = 1\n",
    "\n",
    "        for value in column_value.keys():\n",
    "            set1, set2 = divide_set(rows, col, value)\n",
    "            p = float(len(set1)/len(rows))\n",
    "            gain = current_score - p*scoreFunction(set1) - (1-p) * scoreFunction(set2)\n",
    "            if gain > best_gain and len(set1) > 0 and len(set2) > 0:\n",
    "                best_gain = gain\n",
    "                best_criteria = (col, value)\n",
    "                best_sets = (set1, set2)\n",
    "\n",
    "    if best_gain > 0:\n",
    "        trueBranch = build_tree(best_sets[0])\n",
    "        falseBranch = build_tree(best_sets[1])\n",
    "        return decisionNode(col = best_criteria[0], value= best_criteria[1], tb = trueBranch, fb = falseBranch)\n",
    "    else:\n",
    "        return decisionNode(results = uniqueCounts(rows))\n"
   ],
   "metadata": {
    "collapsed": false,
    "pycharm": {
     "name": "#%%\n"
    }
   }
  },
  {
   "cell_type": "code",
   "execution_count": 27,
   "outputs": [],
   "source": [
    "def printTree(tree, indent = ''):\n",
    "    if tree.results is not None:\n",
    "        print(str(tree.results))\n",
    "    else:\n",
    "        print(str(tree.col)+\":\"+str(tree.value)+\"?\")\n",
    "        print(indent+\"T->\",end=\"\")\n",
    "        printTree(tree.tb, indent+\"     \")\n",
    "        print(indent+\"F->\",end=\"\")\n",
    "        printTree(tree.fb,indent+\"      \")"
   ],
   "metadata": {
    "collapsed": false,
    "pycharm": {
     "name": "#%%\n"
    }
   }
  },
  {
   "cell_type": "code",
   "execution_count": 28,
   "outputs": [],
   "source": [
    "def classify(observation, tree):\n",
    "    if tree.results is not None:\n",
    "        return tree.results\n",
    "    else:\n",
    "        v = observation[tree.col]\n",
    "        branch = None\n",
    "        if isinstance(v, int) or isinstance(v, float):\n",
    "            if v >= tree.value: branch = tree.tb\n",
    "            else: branch = tree.fb\n",
    "        else:\n",
    "            if v == tree.value: branch = tree.tb\n",
    "            else: branch = tree.fb\n",
    "        return classify(observation, branch)"
   ],
   "metadata": {
    "collapsed": false,
    "pycharm": {
     "name": "#%%\n"
    }
   }
  },
  {
   "cell_type": "code",
   "execution_count": 31,
   "outputs": [
    {
     "name": "stdout",
     "output_type": "stream",
     "text": [
      "0:google?\n",
      "T->3:21?\n",
      "     T->{'Premium': 3}\n",
      "     F->2:no?\n",
      "           T->{'None': 1}\n",
      "           F->{'Basic': 1}\n",
      "F->0:slashdot?\n",
      "      T->{'None': 3}\n",
      "      F->2:yes?\n",
      "            T->{'Basic': 4}\n",
      "            F->3:21?\n",
      "                  T->{'Basic': 1}\n",
      "                  F->{'None': 3}\n"
     ]
    },
    {
     "data": {
      "text/plain": "{'Premium': 3}"
     },
     "execution_count": 31,
     "metadata": {},
     "output_type": "execute_result"
    }
   ],
   "source": [
    "my_data=[['slashdot','USA','yes',18,'None'],\n",
    "        ['google','France','yes',23,'Premium'],\n",
    "        ['digg','USA','yes',24,'Basic'],\n",
    "        ['kiwitobes','France','yes',23,'Basic'],\n",
    "        ['google','UK','no',21,'Premium'],\n",
    "        ['(direct)','New Zealand','no',12,'None'],\n",
    "        ['(direct)','UK','no',21,'Basic'],\n",
    "        ['google','USA','no',24,'Premium'],\n",
    "        ['slashdot','France','yes',19,'None'],\n",
    "        ['digg','USA','no',18,'None'],\n",
    "        ['google','UK','no',18,'None'],\n",
    "        ['kiwitobes','UK','no',19,'None'],\n",
    "        ['digg','New Zealand','yes',12,'Basic'],\n",
    "        ['slashdot','UK','no',21,'None'],\n",
    "        ['google','UK','yes',18,'Basic'],\n",
    "        ['kiwitobes','France','yes',19,'Basic']]\n",
    "\n",
    "\n",
    "divide_set(my_data, 2, 'yes')\n",
    "\n",
    "gini_impurity(my_data)\n",
    "\n",
    "tree = build_tree(my_data)\n",
    "\n",
    "printTree(tree)\n",
    "classify(['google', 'France', 'yes', 23], tree)"
   ],
   "metadata": {
    "collapsed": false,
    "pycharm": {
     "name": "#%%\n"
    }
   }
  },
  {
   "cell_type": "code",
   "execution_count": 26,
   "outputs": [],
   "source": [],
   "metadata": {
    "collapsed": false,
    "pycharm": {
     "name": "#%%\n"
    }
   }
  },
  {
   "cell_type": "code",
   "execution_count": null,
   "outputs": [],
   "source": [],
   "metadata": {
    "collapsed": false,
    "pycharm": {
     "name": "#%%\n"
    }
   }
  }
 ],
 "metadata": {
  "kernelspec": {
   "name": "pycharm-3955a139",
   "language": "python",
   "display_name": "PyCharm (fluent-python)"
  },
  "language_info": {
   "codemirror_mode": {
    "name": "ipython",
    "version": 2
   },
   "file_extension": ".py",
   "mimetype": "text/x-python",
   "name": "python",
   "nbconvert_exporter": "python",
   "pygments_lexer": "ipython2",
   "version": "2.7.6"
  }
 },
 "nbformat": 4,
 "nbformat_minor": 0
}
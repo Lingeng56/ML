{
 "cells": [
  {
   "cell_type": "code",
   "execution_count": 2,
   "outputs": [
    {
     "name": "stdout",
     "output_type": "stream",
     "text": [
      "排序后的数组:\n",
      "1 5 7 8 9 10 "
     ]
    }
   ],
   "source": [
    "def partition(arr, left, right):\n",
    "    i = (left -1)\n",
    "    pivot = arr[right]\n",
    "\n",
    "    for j in range(left, right):\n",
    "        if arr[j] <= pivot:\n",
    "            i = i + 1\n",
    "            arr[i], arr[j] = arr[j], arr[i]\n",
    "\n",
    "    arr[i+1], arr[right] = arr[right], arr[i+1]\n",
    "    return i + 1\n",
    "\n",
    "\n",
    "def quickSort(arr, left, right):\n",
    "    if left < right:\n",
    "         pi = partition(arr, left, right)\n",
    "         quickSort(arr, left, pi-1)\n",
    "         quickSort(arr, pi+1, right)\n",
    "\n",
    "arr = [10, 7, 8, 9, 1, 5]\n",
    "n = len(arr)\n",
    "quickSort(arr,0,n-1)\n",
    "print (\"排序后的数组:\")\n",
    "for i in range(n):\n",
    "    print (\"%d\" %arr[i], end=\" \"),"
   ],
   "metadata": {
    "collapsed": false,
    "pycharm": {
     "name": "#%%\n"
    }
   }
  }
 ],
 "metadata": {
  "kernelspec": {
   "name": "pycharm-3955a139",
   "language": "python",
   "display_name": "PyCharm (fluent-python)"
  },
  "language_info": {
   "codemirror_mode": {
    "name": "ipython",
    "version": 2
   },
   "file_extension": ".py",
   "mimetype": "text/x-python",
   "name": "python",
   "nbconvert_exporter": "python",
   "pygments_lexer": "ipython2",
   "version": "2.7.6"
  }
 },
 "nbformat": 4,
 "nbformat_minor": 0
}
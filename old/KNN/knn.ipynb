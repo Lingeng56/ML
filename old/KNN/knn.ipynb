{
 "cells": [
  {
   "cell_type": "code",
   "execution_count": 7,
   "metadata": {
    "collapsed": true
   },
   "outputs": [],
   "source": [
    "import numpy as np\n",
    "import matplotlib.pyplot as plt\n",
    "from collections import defaultdict\n",
    "\n",
    "data_ = np.array([[1,3,0],\n",
    "                  [1,2,1],\n",
    "                  [1,1,1],\n",
    "                  [3,1,2],\n",
    "                  [3,2.5,0],\n",
    "                  [4,3,2],\n",
    "                  [4.7,2,0]])\n",
    "\n",
    "test = [3,2]\n",
    "label2name = {0:'triangle',1:'circle',2:'square'}\n",
    "\n",
    "class KNN:\n",
    "\n",
    "    def __init__(self, data : np.ndarray, mode : str, K : int):\n",
    "        self.cluster = data[..., : -1]\n",
    "        self.labels = data[..., -1]\n",
    "        self.mode = mode\n",
    "        self.K = K\n",
    "\n",
    "    def dist(self, p1 : np.ndarray, p2 : np.ndarray)-> int:\n",
    "        if self.mode == 'l2':\n",
    "            return np.linalg.norm(p1 - p2)\n",
    "        elif self.mode == 'l1':\n",
    "            return np.abs(p1 - p2).sum()\n",
    "\n",
    "    def predict(self, inputs):\n",
    "        closest = sorted(enumerate([self.dist(inputs, self.cluster[i]) for i in range(self.cluster.shape[0])]), key=lambda x:x[1])[:self.K]\n",
    "        closest_labels = [self.labels[i].astype(int) for i, v in closest]\n",
    "        label2num = defaultdict(int)\n",
    "        for label in closest_labels:\n",
    "            label2num[label] += 1\n",
    "\n",
    "        return sorted(label2num.items(), key=lambda x:x[1], reverse=True)[0][0]"
   ]
  },
  {
   "cell_type": "code",
   "execution_count": 11,
   "outputs": [
    {
     "data": {
      "text/plain": "'triangle'"
     },
     "execution_count": 11,
     "metadata": {},
     "output_type": "execute_result"
    }
   ],
   "source": [
    "knn = KNN(data_, 'l1', 7)\n",
    "label2name[knn.predict(test)]"
   ],
   "metadata": {
    "collapsed": false,
    "pycharm": {
     "name": "#%%\n"
    }
   }
  },
  {
   "cell_type": "code",
   "execution_count": null,
   "outputs": [],
   "source": [],
   "metadata": {
    "collapsed": false,
    "pycharm": {
     "name": "#%%\n"
    }
   }
  }
 ],
 "metadata": {
  "kernelspec": {
   "name": "pycharm-3955a139",
   "language": "python",
   "display_name": "PyCharm (fluent-python)"
  },
  "language_info": {
   "codemirror_mode": {
    "name": "ipython",
    "version": 2
   },
   "file_extension": ".py",
   "mimetype": "text/x-python",
   "name": "python",
   "nbconvert_exporter": "python",
   "pygments_lexer": "ipython2",
   "version": "2.7.6"
  }
 },
 "nbformat": 4,
 "nbformat_minor": 0
}
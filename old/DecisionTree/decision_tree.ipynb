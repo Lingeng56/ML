{
 "cells": [
  {
   "cell_type": "code",
   "execution_count": 85,
   "metadata": {
    "collapsed": true
   },
   "outputs": [],
   "source": [
    "from sklearn import datasets\n",
    "import numpy as np\n",
    "from collections import defaultdict\n",
    "from tqdm import tqdm"
   ]
  },
  {
   "cell_type": "code",
   "execution_count": 86,
   "outputs": [],
   "source": [
    "iris = datasets.load_iris()\n",
    "data_ = iris['data']\n",
    "labels = iris['target']\n",
    "data_ = np.concatenate((data_,labels.reshape(-1,1)), axis=1)\n",
    "np.random.shuffle(data_)"
   ],
   "metadata": {
    "collapsed": false,
    "pycharm": {
     "name": "#%%\n"
    }
   }
  },
  {
   "cell_type": "code",
   "execution_count": 87,
   "outputs": [],
   "source": [
    "class DecisionNode:\n",
    "    def __init__(self, col=-1, value=None, results=None, tb=None, fb=None):\n",
    "        self.col = col\n",
    "        self.value = value\n",
    "        self.results = results\n",
    "        self.tb = tb\n",
    "        self.fb = fb\n"
   ],
   "metadata": {
    "collapsed": false,
    "pycharm": {
     "name": "#%%\n"
    }
   }
  },
  {
   "cell_type": "code",
   "execution_count": 88,
   "outputs": [],
   "source": [
    "def get_counts(data):\n",
    "    counts = defaultdict(int)\n",
    "    for i in range(data.shape[0]):\n",
    "        counts[data[i,-1]] += 1\n",
    "    return counts"
   ],
   "metadata": {
    "collapsed": false,
    "pycharm": {
     "name": "#%%\n"
    }
   }
  },
  {
   "cell_type": "code",
   "execution_count": 89,
   "outputs": [],
   "source": [
    "def entropy(data):\n",
    "    from math import log\n",
    "    log2 = lambda x:log(x)/log(2)\n",
    "    ent = 0.0\n",
    "    counts = get_counts(data)\n",
    "    for cls_num in counts.values():\n",
    "        p = float(cls_num) / data.shape[0]\n",
    "        ent -= p*log2(p)\n",
    "    return ent\n"
   ],
   "metadata": {
    "collapsed": false,
    "pycharm": {
     "name": "#%%\n"
    }
   }
  },
  {
   "cell_type": "code",
   "execution_count": 90,
   "outputs": [],
   "source": [
    "def gini(data):\n",
    "    counts = get_counts(data)\n",
    "    gi = 0.0\n",
    "    for cls_num in counts.values():\n",
    "        p = float(cls_num) / data.shape[0]\n",
    "        gi += p*(1 - p)\n",
    "    return gi"
   ],
   "metadata": {
    "collapsed": false,
    "pycharm": {
     "name": "#%%\n"
    }
   }
  },
  {
   "cell_type": "code",
   "execution_count": 91,
   "outputs": [],
   "source": [
    "def divide_set(data, feature, value):\n",
    "    split_function = lambda row:row[feature] >= value\n",
    "    set1 = np.array([data[i,...] for i in range(data.shape[0]) if split_function(data[i,...])])\n",
    "    set2 = np.array([data[i,...] for i in range(data.shape[0]) if not split_function(data[i,...])])\n",
    "\n",
    "    return set1, set2"
   ],
   "metadata": {
    "collapsed": false,
    "pycharm": {
     "name": "#%%\n"
    }
   }
  },
  {
   "cell_type": "code",
   "execution_count": 92,
   "outputs": [],
   "source": [
    "def build_tree(data , score_function = entropy):\n",
    "    if data.shape[0] == 0:return DecisionNode()\n",
    "    current_score = score_function(data)\n",
    "\n",
    "    best_gain = 0.0\n",
    "    best_split = None\n",
    "    best_sets = None\n",
    "\n",
    "    for feature in range(data.shape[1]-1):\n",
    "        for value in range(data.shape[0]):\n",
    "            value = data[value,feature]\n",
    "            set1, set2 = divide_set(data, feature, value)\n",
    "            p = float(set1.shape[0]) / data.shape[0]\n",
    "            gain = current_score - p*score_function(set1) - (1-p) * score_function(set2)\n",
    "            if gain > best_gain and set1.shape[0] > 0 and set2.shape[0] > 0:\n",
    "                best_gain = gain\n",
    "                best_sets = set1, set2\n",
    "                best_split = feature, value\n",
    "\n",
    "    if best_gain > 0:\n",
    "        ture_branch = build_tree(best_sets[0])\n",
    "        false_branch = build_tree(best_sets[1])\n",
    "        return DecisionNode(col=best_split[0], value=best_split[1],tb=ture_branch,fb=false_branch)\n",
    "    else:\n",
    "        return DecisionNode(results=get_counts(data))\n"
   ],
   "metadata": {
    "collapsed": false,
    "pycharm": {
     "name": "#%%\n"
    }
   }
  },
  {
   "cell_type": "code",
   "execution_count": 93,
   "outputs": [],
   "source": [
    "def print_tree(tree, indent = \"\"):\n",
    "    if tree.results is not None:\n",
    "        print(str(list(tree.results.keys())[0]))\n",
    "    else:\n",
    "        print(\"input[{}]>={}?\".format(tree.col, tree.value))\n",
    "        print(indent+\"T-> \",end=\"\")\n",
    "        print_tree(tree.tb, indent+\"\\t\")\n",
    "        print(indent+\"F-> \",end=\"\")\n",
    "        print_tree(tree.fb,indent+\"\\t\")\n"
   ],
   "metadata": {
    "collapsed": false,
    "pycharm": {
     "name": "#%%\n"
    }
   }
  },
  {
   "cell_type": "code",
   "execution_count": 94,
   "outputs": [],
   "source": [
    "def evaluate_one(observation, tree):\n",
    "    if tree.results is not None:\n",
    "        return tree.results\n",
    "    if observation[tree.col] >= tree.value:\n",
    "        return evaluate_one(observation, tree.tb)\n",
    "    else:\n",
    "        return evaluate_one(observation, tree.fb)"
   ],
   "metadata": {
    "collapsed": false,
    "pycharm": {
     "name": "#%%\n"
    }
   }
  },
  {
   "cell_type": "code",
   "execution_count": 95,
   "outputs": [],
   "source": [
    "def evaluate(data, tree):\n",
    "    acc = 0\n",
    "    for i in range(data.shape[0]):\n",
    "        if list(evaluate_one(data[i,...], tree).keys())[0] == data[i, -1]:\n",
    "            acc += 1\n",
    "    return float(acc)/data.shape[0]\n",
    "    "
   ],
   "metadata": {
    "collapsed": false,
    "pycharm": {
     "name": "#%%\n"
    }
   }
  },
  {
   "cell_type": "code",
   "execution_count": 133,
   "outputs": [],
   "source": [
    "def cross_validation(data, k, prune_=0.1):\n",
    "    size = data.shape[0]//k\n",
    "    acc = 0.0\n",
    "    for i in tqdm(range(k)):\n",
    "        valid = data[i*size: (i+1)*size,...]\n",
    "        train = np.concatenate((data[: i*size,...],data[(i+1)*size: ,...]), axis=0)\n",
    "        tree = build_tree(train)\n",
    "        prune(tree, prune_)\n",
    "        acc += evaluate(valid, tree)\n",
    "\n",
    "    acc /= k\n",
    "    print(\"{}-Fold validation result is {}\".format(k, acc))\n",
    "    "
   ],
   "metadata": {
    "collapsed": false,
    "pycharm": {
     "name": "#%%\n"
    }
   }
  },
  {
   "cell_type": "code",
   "execution_count": 134,
   "outputs": [],
   "source": [
    "def prune(tree, min_gain):\n",
    "    if tree.tb.results is None:\n",
    "        prune(tree.tb, min_gain)\n",
    "    if tree.fb.results is None:\n",
    "        prune(tree.fb, min_gain)\n",
    "\n",
    "    if tree.fb.results is not None and tree.tb.results is not None:\n",
    "        tb, fb = [], []\n",
    "        for v,c in tree.tb.results.items():\n",
    "            tb+=[[v]]*c\n",
    "        for v,c in tree.fb.results.items():\n",
    "            fb+=[[v]]*c\n",
    "        tb = np.array(tb)\n",
    "        fb = np.array(fb)\n",
    "        #检查熵的减少量\n",
    "        delta = entropy(np.concatenate((tb,fb), axis=0))-(entropy(tb)+entropy(fb)/2)\n",
    "        if delta < min_gain:\n",
    "            # 合并分支\n",
    "            tree.tb,tree.fb = None,None\n",
    "            tree.results = get_counts(np.concatenate((tb,fb), axis=0))\n",
    "\n"
   ],
   "metadata": {
    "collapsed": false,
    "pycharm": {
     "name": "#%%\n"
    }
   }
  },
  {
   "cell_type": "code",
   "execution_count": 135,
   "outputs": [
    {
     "name": "stderr",
     "output_type": "stream",
     "text": [
      "100%|██████████| 7/7 [00:00<00:00,  8.72it/s]\n"
     ]
    },
    {
     "name": "stdout",
     "output_type": "stream",
     "text": [
      "7-Fold validation result is 0.9319727891156464\n"
     ]
    }
   ],
   "source": [
    "cross_validation(data_, 7)"
   ],
   "metadata": {
    "collapsed": false,
    "pycharm": {
     "name": "#%%\n"
    }
   }
  },
  {
   "cell_type": "code",
   "execution_count": null,
   "outputs": [],
   "source": [],
   "metadata": {
    "collapsed": false,
    "pycharm": {
     "name": "#%%\n"
    }
   }
  }
 ],
 "metadata": {
  "kernelspec": {
   "name": "pycharm-3955a139",
   "language": "python",
   "display_name": "PyCharm (fluent-python)"
  },
  "language_info": {
   "codemirror_mode": {
    "name": "ipython",
    "version": 2
   },
   "file_extension": ".py",
   "mimetype": "text/x-python",
   "name": "python",
   "nbconvert_exporter": "python",
   "pygments_lexer": "ipython2",
   "version": "2.7.6"
  }
 },
 "nbformat": 4,
 "nbformat_minor": 0
}
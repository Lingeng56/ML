{
 "cells": [
  {
   "cell_type": "code",
   "execution_count": 20,
   "metadata": {
    "collapsed": true
   },
   "outputs": [],
   "source": [
    "from sklearn import datasets\n",
    "import numpy as np\n",
    "from collections import defaultdict\n",
    "from tqdm import tqdm\n",
    "\n",
    "\n",
    "iris = datasets.load_iris()\n",
    "data_ = iris['data']\n",
    "labels_ = iris['target']\n",
    "data_ = np.concatenate((data_,labels_.reshape(-1,1)), axis=1)"
   ]
  },
  {
   "cell_type": "code",
   "execution_count": 21,
   "outputs": [],
   "source": [
    "from math import sqrt, pi, pow, e\n",
    "def Gaussian_Dist(data, labels):\n",
    "    cls2mean_var = defaultdict(list)\n",
    "    cls2counts = defaultdict(int)\n",
    "    for i in range(data.shape[0]):\n",
    "        for j in range(data.shape[1]):\n",
    "            if len(cls2mean_var[labels[i]]) == 0:\n",
    "                cls2mean_var[labels[i]] = [0.0] * data.shape[1], [0.0] * data.shape[1]\n",
    "            cls2counts[labels[i]] += 1\n",
    "            cls2mean_var[labels[i]][0][j] += (data[i, j] - cls2mean_var[labels[i]][0][j])/cls2counts[labels[i]]\n",
    "    for i in range(data.shape[0]):\n",
    "        for j in range(data.shape[1]):\n",
    "            cls2mean_var[labels[i]][1][j] += pow((data[i, j] - cls2mean_var[labels[i]][0][j]), 2)/cls2counts[labels[i]]\n",
    "\n",
    "\n",
    "    return cls2mean_var"
   ],
   "metadata": {
    "collapsed": false,
    "pycharm": {
     "name": "#%%\n"
    }
   }
  },
  {
   "cell_type": "code",
   "execution_count": 22,
   "outputs": [],
   "source": [
    "def pdf(x, m, v):\n",
    "    return 1/(sqrt(2*pi)*v)*pow(e, -pow(x-m, 2)/(2*v))"
   ],
   "metadata": {
    "collapsed": false,
    "pycharm": {
     "name": "#%%\n"
    }
   }
  },
  {
   "cell_type": "code",
   "execution_count": 23,
   "outputs": [],
   "source": [
    "cls2mean_var_ = Gaussian_Dist(data_, labels_)"
   ],
   "metadata": {
    "collapsed": false,
    "pycharm": {
     "name": "#%%\n"
    }
   }
  },
  {
   "cell_type": "code",
   "execution_count": 24,
   "outputs": [],
   "source": [
    "def prediction(cls2mean_var, inputs, pdf_=pdf):\n",
    "    results = {}\n",
    "    for cls, mv in cls2mean_var.items():\n",
    "        results[cls] = 1.0\n",
    "        for i in range(inputs.shape[0]):\n",
    "            results[cls] *= pdf_(inputs[i], mv[0][i], mv[1][i])\n",
    "\n",
    "\n",
    "    return sorted(results.items(), key=lambda x:x[1])[-1][0]"
   ],
   "metadata": {
    "collapsed": false,
    "pycharm": {
     "name": "#%%\n"
    }
   }
  },
  {
   "cell_type": "code",
   "execution_count": 25,
   "outputs": [],
   "source": [
    "def evaluate(cls2mean_var, test):\n",
    "    acc = 0.0\n",
    "    for i in range(test.shape[0]):\n",
    "        pre = prediction(cls2mean_var, test[i,:-1])\n",
    "        if pre == test[i, -1]:\n",
    "            acc += 1\n",
    "    return acc / test.shape[0]"
   ],
   "metadata": {
    "collapsed": false,
    "pycharm": {
     "name": "#%%\n"
    }
   }
  },
  {
   "cell_type": "code",
   "execution_count": 26,
   "outputs": [],
   "source": [
    "def cross_validation(data, k):\n",
    "    size = data.shape[0]//k\n",
    "    acc = 0.0\n",
    "    for i in tqdm(range(k)):\n",
    "        valid = data[i*size: (i+1)*size,...]\n",
    "        train = np.concatenate((data[: i*size,...],data[(i+1)*size: ,...]), axis=0)\n",
    "        cls2mean_var = Gaussian_Dist(train, train[...,-1])\n",
    "        acc += evaluate(cls2mean_var, valid)\n",
    "\n",
    "    acc /= k\n",
    "    print(\"{}-Fold validation result is {}\".format(k, acc))"
   ],
   "metadata": {
    "collapsed": false,
    "pycharm": {
     "name": "#%%\n"
    }
   }
  },
  {
   "cell_type": "code",
   "execution_count": 43,
   "outputs": [
    {
     "name": "stderr",
     "output_type": "stream",
     "text": [
      "100%|██████████| 10/10 [00:00<00:00, 974.67it/s]\n"
     ]
    },
    {
     "name": "stdout",
     "output_type": "stream",
     "text": [
      "10-Fold validation result is 0.7733333333333334\n"
     ]
    }
   ],
   "source": [
    "cross_validation(data_, 10)"
   ],
   "metadata": {
    "collapsed": false,
    "pycharm": {
     "name": "#%%\n"
    }
   }
  },
  {
   "cell_type": "code",
   "execution_count": 27,
   "outputs": [],
   "source": [],
   "metadata": {
    "collapsed": false,
    "pycharm": {
     "name": "#%%\n"
    }
   }
  },
  {
   "cell_type": "code",
   "execution_count": null,
   "outputs": [],
   "source": [],
   "metadata": {
    "collapsed": false,
    "pycharm": {
     "name": "#%%\n"
    }
   }
  }
 ],
 "metadata": {
  "kernelspec": {
   "name": "pycharm-3955a139",
   "language": "python",
   "display_name": "PyCharm (fluent-python)"
  },
  "language_info": {
   "codemirror_mode": {
    "name": "ipython",
    "version": 2
   },
   "file_extension": ".py",
   "mimetype": "text/x-python",
   "name": "python",
   "nbconvert_exporter": "python",
   "pygments_lexer": "ipython2",
   "version": "2.7.6"
  }
 },
 "nbformat": 4,
 "nbformat_minor": 0
}